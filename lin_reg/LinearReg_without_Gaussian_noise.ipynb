{
 "cells": [
  {
   "cell_type": "markdown",
   "metadata": {},
   "source": [
    "The notebook gives the experiment reported in Fig. 4 (top left), where model recovery error is plotted with respect to time in the robust linear regression setting, where clean data points are generated without noise."
   ]
  },
  {
   "cell_type": "code",
   "execution_count": 1,
   "metadata": {},
   "outputs": [],
   "source": [
    "# n - number of data points\n",
    "# d - dimensionality\n",
    "# alpha - number of corrupted points, change the fraction within expression\n",
    "# mu, sigma - parameters for any gaussian being used, feel free to change\n",
    "import numpy as np\n",
    "import matplotlib.pyplot as plt\n",
    "from irls_lib import *\n",
    "import pickle\n",
    "import statsmodels.api as sm\n",
    "import time\n",
    "from sklearn.model_selection import ShuffleSplit\n",
    "from sklearn.model_selection import GridSearchCV\n",
    "from sklearn.model_selection import RandomizedSearchCV"
   ]
  },
  {
   "cell_type": "code",
   "execution_count": 2,
   "metadata": {},
   "outputs": [],
   "source": [
    "start_time=time.time()\n",
    "\n",
    "cross_validation=False\n",
    "\n",
    "n = 10000\n",
    "d = 100\n",
    "alpha  = 0.2\n",
    "\n",
    "n_corr  = int(alpha*n)\n",
    "\n",
    "Idx= np.random.permutation(n)\n",
    "corrIdx= Idx[0:n_corr]\n",
    "cleanIdx=Idx[n_corr:n]\n",
    "\n",
    "mu = 0\n",
    "sigma = 1\n",
    "X = np.random.normal(mu, sigma, (n, d))\n",
    "\n",
    "w_star= np.random.normal(0,1, (d, 1))\n",
    "w_star = w_star / np.linalg.norm(w_star)\n",
    "w_adv= np.random.normal(0,1, (d, 1))\n",
    "\n",
    "y=np.zeros(shape=(n,1))\n",
    "y[cleanIdx] = np.dot(X[cleanIdx,:], w_star)\n",
    "y[corrIdx] = np.dot(X[corrIdx,:], w_adv)"
   ]
  },
  {
   "cell_type": "code",
   "execution_count": 3,
   "metadata": {},
   "outputs": [],
   "source": [
    "#------------APIS-------------#\n",
    "\n",
    "if cross_validation:\n",
    "    alpha_range = np.linspace( 0.01, 0.2, 20 )\n",
    "    param_grid = dict( alpha = alpha_range )\n",
    "    cv = ShuffleSplit( n_splits = 5, test_size = 0.3, random_state = 42 )\n",
    "    grid = GridSearchCV( APIS( w_init = w_adv, w_star = w_star ), param_grid=param_grid, cv = cv, refit = False )\n",
    "    grid.fit( X, y )\n",
    "    best = grid.best_params_\n",
    "    print(\"The best parameters for APIS are %s with a score of %0.2f\" % (grid.best_params_, grid.best_score_))\n",
    "    apis = APIS(alpha= best[\"alpha\"], w_init = w_adv, w_star = w_star )\n",
    "else:\n",
    "    apis =APIS(alpha=alpha, w_init = w_adv, w_star = w_star )\n",
    "\n",
    "apis.fit( X, y )\n",
    "l2_altproj = apis.l2\n",
    "clock_altproj = apis.clock\n",
    "\n",
    "#------------STIR-------------#\n",
    "\n",
    "if cross_validation:\n",
    "    eta_range = np.linspace( 1.01, 3.01, 21 )\n",
    "    alpha_range = np.linspace( alpha, alpha, 1 )\n",
    "    # STIR does not itself use alpha as a hyperparameter in the algorithm\n",
    "    # but does need it to perform cross-validation since the validation sets\n",
    "    # are also corrupted. To avoid an unfair comparison, We offer STIR a\n",
    "    # handicap by giving it the true value of alpha\n",
    "    param_grid = dict( eta = eta_range, alpha = alpha_range )\n",
    "    cv = ShuffleSplit( n_splits = 5, test_size = 0.3, random_state = 42 )\n",
    "    grid = GridSearchCV( STIR( w_init = w_adv, w_star = w_star ), param_grid=param_grid, cv = cv, refit = False )\n",
    "    grid.fit( X, y )\n",
    "    best = grid.best_params_\n",
    "    print(\"The best parameters for STIR are %s with a score of %0.2f\" % (grid.best_params_, grid.best_score_))\n",
    "    stir = STIR( eta = best[\"eta\"], alpha = best[\"alpha\"], M_init = np.power(10, 1), w_init = w_adv, w_star = w_star )\n",
    "else:\n",
    "    stir = STIR( eta = 2, alpha = alpha, M_init = np.power(10, 1), w_init = w_adv, w_star = w_star )\n",
    "\n",
    "stir.fit( X, y )\n",
    "l2_stir = stir.l2\n",
    "clock_stir = stir.clock\n",
    "\n",
    "#------------TORRENT----------#\n",
    "if cross_validation:\n",
    "    alpha_range = np.linspace( 0.05, 0.2, 20 )\n",
    "    param_grid = dict( alpha = alpha_range )\n",
    "    cv = ShuffleSplit( n_splits = 5, test_size = 0.3, random_state = 42 )\n",
    "    grid = GridSearchCV( TORRENT( w_init = w_adv, w_star = w_star ), param_grid=param_grid, cv = cv, refit = False )\n",
    "    grid.fit( X, y )\n",
    "    best = grid.best_params_\n",
    "    print(\"The best parameters for TORRENT are %s with a score of %0.2f\" % (grid.best_params_, grid.best_score_))\n",
    "    torrent = TORRENT( alpha = best[\"alpha\"], w_init = w_adv, w_star = w_star )\n",
    "else:\n",
    "    torrent = TORRENT( alpha = alpha, w_init = w_adv, w_star = w_star )\n",
    "    \n",
    "torrent.fit( X, y )\n",
    "l2_torrent = torrent.l2\n",
    "clock_torrent = torrent.clock\n",
    "\n"
   ]
  },
  {
   "cell_type": "code",
   "execution_count": 4,
   "metadata": {},
   "outputs": [
    {
     "data": {
      "image/png": "[encoded data removed]",
      "text/plain": [
       "<Figure size 432x288 with 1 Axes>"
      ]
     },
     "metadata": {
      "needs_background": "light"
     },
     "output_type": "display_data"
    }
   ],
   "source": [
    "n = 10000\n",
    "d = 100\n",
    "alpha  = 0.2\n",
    "\n",
    "\n",
    "file_name='n='+str(n)+' d='+str(d)+' alpha='+str(alpha)   \n",
    "\n",
    "import matplotlib.pyplot as plt\n",
    "plt.rcParams['pdf.fonttype'] = 42\n",
    "plt.rcParams['ps.fonttype'] = 42\n",
    "\n",
    "plt.figure()\n",
    "plt.xlabel('Time in sec')\n",
    "plt.ylabel('$||w-w^*||_2$')\n",
    "\n",
    "plt.plot(clock_stir, l2_stir, label = 'STIR', ls='--',color='red',linewidth=4)\n",
    "plt.plot(clock_torrent, l2_torrent, label = 'TORRENT',color='green',linewidth=4)\n",
    "plt.plot(clock_altproj, l2_altproj, label = 'APIS', color='blue',linewidth=4)\n",
    "\n",
    "plt.legend(loc='lower left',prop = {'size': 10}, framealpha=0.3)\n",
    "plt.grid()\n",
    "plt.title('n='+str(n)+', d='+str(d)+', k/n='+str(alpha))\n",
    "plt.xscale('log')\n",
    "plt.yscale('log')"
   ]
  },
  {
   "cell_type": "code",
   "execution_count": 5,
   "metadata": {},
   "outputs": [
    {
     "name": "stdout",
     "output_type": "stream",
     "text": [
      "Elapsed time: 4.10 sec\n"
     ]
    }
   ],
   "source": [
    "print(f\"Elapsed time: {time.time()-start_time:.2f} sec\" )"
   ]
  }
 ],
 "metadata": {
  "kernelspec": {
   "display_name": "Python 3",
   "language": "python",
   "name": "python3"
  },
  "language_info": {
   "codemirror_mode": {
    "name": "ipython",
    "version": 3
   },
   "file_extension": ".py",
   "mimetype": "text/x-python",
   "name": "python",
   "nbconvert_exporter": "python",
   "pygments_lexer": "ipython3",
   "version": "3.8.3"
  }
 },
 "nbformat": 4,
 "nbformat_minor": 4
}
