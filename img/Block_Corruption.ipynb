{
 "cells": [
  {
   "cell_type": "markdown",
   "metadata": {},
   "source": [
    "The notebook gives the experiment reported in Fig. 7, where the APIS recovers images of the Set12 dataset that are densely corrupted with block noise."
   ]
  },
  {
   "cell_type": "code",
   "execution_count": 1,
   "metadata": {},
   "outputs": [],
   "source": [
    "import numpy as np\n",
    "import matplotlib.pyplot as plt \n",
    "import cv2\n",
    "from skimage import data\n",
    "from numpy.fft import fft2, ifft2\n",
    "from imglib import HT, obfuscation, noiseSP, rescale\n",
    "from skimage.metrics import peak_signal_noise_ratio\n",
    "from skimage.metrics import structural_similarity as ssim\n",
    "import time\n",
    "import os\n",
    "import pywt\n",
    "from pywt import wavedec2, waverec2\n",
    "from imglib import HT, HTHWS"
   ]
  },
  {
   "cell_type": "code",
   "execution_count": 2,
   "metadata": {},
   "outputs": [],
   "source": [
    "def apis_fourier_wave_struc_sparse(noisy_img, ref_img, frac_k, frac_s, wname, max_iter=10):\n",
    "    shape=noisy_img.shape\n",
    "    noise = np.zeros(shape)\n",
    "    loss=np.zeros(max_iter)\n",
    "    \n",
    "    l=int(np.log2(shape[0]))-int(np.log2(shape[0]*np.sqrt(frac_k)))\n",
    "    frac=(np.power(2,2*l)*frac_k -1)/3\n",
    "\n",
    "    for i in range(max_iter):\n",
    "        clean_img= abs(ifft2(HT(fft2(noisy_img-noise),frac_s)))\n",
    "        noise=waverec2(HTHWS(wavedec2(noisy_img-clean_img,wname,level=l),frac),wname)\n",
    "        loss[i]=np.linalg.norm(clean_img-ref_img, ord='fro')\n",
    "    return rescale(clean_img), loss"
   ]
  },
  {
   "cell_type": "code",
   "execution_count": 3,
   "metadata": {},
   "outputs": [],
   "source": [
    "noise_name='block_noise/'\n",
    "\n",
    "if not os.path.exists('output/'+str(noise_name)+'apis/'):\n",
    "        os.makedirs('output/'+str(noise_name)+'apis/')"
   ]
  },
  {
   "cell_type": "code",
   "execution_count": 4,
   "metadata": {},
   "outputs": [
    {
     "name": "stdout",
     "output_type": "stream",
     "text": [
      "img_no: 1, noisy psnr=11.03, ssim=0.68\n",
      "apis psnr=20.04, ssim=0.79, time=82.09s\n",
      "img_no: 2, noisy psnr=10.97, ssim=0.74\n",
      "apis psnr=14.36, ssim=0.81, time=80.93s\n",
      "img_no: 3, noisy psnr=11.15, ssim=0.69\n",
      "apis psnr=22.73, ssim=0.79, time=79.34s\n",
      "img_no: 4, noisy psnr=11.37, ssim=0.64\n",
      "apis psnr=24.65, ssim=0.90, time=78.62s\n",
      "img_no: 5, noisy psnr=11.09, ssim=0.67\n",
      "apis psnr=25.51, ssim=0.76, time=79.53s\n",
      "img_no: 6, noisy psnr=10.04, ssim=0.75\n",
      "apis psnr=26.52, ssim=0.80, time=80.76s\n",
      "img_no: 7, noisy psnr=11.20, ssim=0.69\n",
      "apis psnr=26.25, ssim=0.86, time=78.57s\n",
      "img_no: 8, noisy psnr=10.71, ssim=0.67\n",
      "apis psnr=22.56, ssim=0.80, time=79.50s\n",
      "img_no: 9, noisy psnr=10.92, ssim=0.65\n",
      "apis psnr=21.43, ssim=0.70, time=80.32s\n",
      "img_no: 10, noisy psnr=11.41, ssim=0.69\n",
      "apis psnr=24.65, ssim=0.73, time=78.95s\n",
      "img_no: 11, noisy psnr=10.70, ssim=0.59\n",
      "apis psnr=24.03, ssim=0.75, time=83.32s\n",
      "img_no: 12, noisy psnr=11.34, ssim=0.67\n",
      "apis psnr=21.97, ssim=0.75, time=79.66s\n"
     ]
    }
   ],
   "source": [
    "metrics=np.zeros(shape=(12,11))\n",
    "\n",
    "for i in range(12):\n",
    "    img=cv2.imread('input/Set12/'+str(i+1)+'.png',0)\n",
    "    noisy_img=cv2.imread('input/'+str(noise_name)+str(i+1)+'.png',0)\n",
    "    \n",
    "    noisy_psnr=peak_signal_noise_ratio(img, noisy_img)\n",
    "    noisy_ssim = ssim(img, noisy_img )\n",
    "    \n",
    "    metrics[i,0], metrics[i,1] = noisy_psnr, noisy_ssim\n",
    "    print(f'img_no: {i+1}, noisy psnr={noisy_psnr:.2f}, ssim={noisy_ssim:.2f}')\n",
    "    \n",
    "    #---------------APIS------------------#\n",
    "    frac_k=0.0001\n",
    "    frac_s=0.06\n",
    "    wname='haar'\n",
    "    \n",
    "    start_time=time.time()\n",
    "    apis_img, loss=apis_fourier_wave_struc_sparse(noisy_img, img, frac_k, frac_s, wname, max_iter=2000)\n",
    "    apis_time = time.time()-start_time\n",
    "    apis_psnr=peak_signal_noise_ratio(img, apis_img )\n",
    "    apis_ssim = ssim(img, apis_img )\n",
    "    \n",
    "    metrics[i,2], metrics[i,3], metrics[i,4] = apis_psnr, apis_ssim, apis_time\n",
    "    print(f'apis psnr={apis_psnr:.2f}, ssim={apis_ssim:.2f}, time={apis_time:.2f}s')\n",
    "    plt.imsave('output/'+str(noise_name)+'apis/'+str(i+1)+'.png',apis_img, cmap='gray')\n"
   ]
  }
 ],
 "metadata": {
  "kernelspec": {
   "display_name": "Python 3",
   "language": "python",
   "name": "python3"
  },
  "language_info": {
   "codemirror_mode": {
    "name": "ipython",
    "version": 3
   },
   "file_extension": ".py",
   "mimetype": "text/x-python",
   "name": "python",
   "nbconvert_exporter": "python",
   "pygments_lexer": "ipython3",
   "version": "3.8.3"
  }
 },
 "nbformat": 4,
 "nbformat_minor": 4
}
