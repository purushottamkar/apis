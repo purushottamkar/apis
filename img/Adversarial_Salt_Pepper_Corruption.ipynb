{
 "cells": [
  {
   "cell_type": "markdown",
   "metadata": {},
   "source": [
    "The notebook gives the experiment reported in Fig. 6, where the APIS recovers images of the Set12 dataset that are adversarially corrupted with sparse salt-and-pepper noise."
   ]
  },
  {
   "cell_type": "code",
   "execution_count": 1,
   "metadata": {},
   "outputs": [],
   "source": [
    "import numpy as np\n",
    "import matplotlib.pyplot as plt \n",
    "import cv2\n",
    "from skimage import data\n",
    "from numpy.fft import fft2, ifft2\n",
    "from imglib import HT, obfuscation, noiseSP, rescale\n",
    "from skimage.restoration import denoise_tv_bregman\n",
    "from skimage.metrics import peak_signal_noise_ratio\n",
    "from skimage.metrics import structural_similarity as ssim\n",
    "import time\n",
    "import os"
   ]
  },
  {
   "cell_type": "code",
   "execution_count": 2,
   "metadata": {},
   "outputs": [],
   "source": [
    "def apis_fourier_cann(noisy_img, lr_img, frac_k, frac_s, max_iter=10):\n",
    "    shape=noisy_img.shape\n",
    "    noise = np.zeros(shape)\n",
    "    loss=np.zeros(max_iter)\n",
    "    for i in range(max_iter):\n",
    "        clean_img= abs(ifft2(HT(fft2(noisy_img-noise),frac_s)))\n",
    "        noise=HT(noisy_img-clean_img, frac_k)\n",
    "        loss[i]=np.linalg.norm(clean_img-lr_img, ord='fro')\n",
    "    return rescale(clean_img), loss"
   ]
  },
  {
   "cell_type": "code",
   "execution_count": 3,
   "metadata": {},
   "outputs": [],
   "source": [
    "noise_name='salt_pepper_noise/'\n",
    "\n",
    "if not os.path.exists('output/'+str(noise_name)+'apis/'):\n",
    "        os.makedirs('output/'+str(noise_name)+'apis/')"
   ]
  },
  {
   "cell_type": "code",
   "execution_count": 4,
   "metadata": {},
   "outputs": [
    {
     "name": "stdout",
     "output_type": "stream",
     "text": [
      "img_no: 0, noisy psnr=9.93, ssim=0.04\n",
      "apis psnr=27.36, ssim=0.90, time=1.82s\n",
      "img_no: 1, noisy psnr=10.61, ssim=0.02\n",
      "apis psnr=32.60, ssim=0.98, time=1.71s\n",
      "img_no: 2, noisy psnr=9.90, ssim=0.05\n",
      "apis psnr=29.52, ssim=0.84, time=1.78s\n",
      "img_no: 3, noisy psnr=9.92, ssim=0.05\n",
      "apis psnr=36.43, ssim=0.97, time=1.74s\n",
      "img_no: 4, noisy psnr=10.30, ssim=0.07\n",
      "apis psnr=25.13, ssim=0.79, time=1.84s\n",
      "img_no: 5, noisy psnr=9.42, ssim=0.05\n",
      "apis psnr=26.21, ssim=0.84, time=1.77s\n",
      "img_no: 6, noisy psnr=9.73, ssim=0.05\n",
      "apis psnr=35.71, ssim=0.95, time=1.80s\n",
      "img_no: 7, noisy psnr=10.54, ssim=0.04\n",
      "apis psnr=30.00, ssim=0.85, time=1.80s\n",
      "img_no: 8, noisy psnr=10.16, ssim=0.07\n",
      "apis psnr=26.88, ssim=0.76, time=1.78s\n",
      "img_no: 9, noisy psnr=10.68, ssim=0.05\n",
      "apis psnr=28.91, ssim=0.80, time=1.86s\n",
      "img_no: 10, noisy psnr=10.43, ssim=0.05\n",
      "apis psnr=24.06, ssim=0.79, time=1.83s\n",
      "img_no: 11, noisy psnr=10.81, ssim=0.05\n",
      "apis psnr=27.44, ssim=0.82, time=1.77s\n"
     ]
    }
   ],
   "source": [
    "metrics=np.zeros(shape=(12,11))\n",
    "\n",
    "for i in range(12):\n",
    "    img=cv2.imread('input/Set12/'+str(i+1)+'.png',0)\n",
    "    noisy_img=cv2.imread('input/salt_pepper_noise/'+str(i+1)+'.png',0)\n",
    "    \n",
    "    noisy_psnr=peak_signal_noise_ratio(img, noisy_img)\n",
    "    noisy_ssim = ssim(img, noisy_img )\n",
    "    \n",
    "    metrics[i,0], metrics[i,1] = noisy_psnr, noisy_ssim\n",
    "    print(f'img_no: {i}, noisy psnr={noisy_psnr:.2f}, ssim={noisy_ssim:.2f}')\n",
    "    \n",
    "    #---------------APIS------------------#\n",
    "    frac_k=0.2\n",
    "    frac_s=0.1\n",
    "    start_time=time.time()\n",
    "    apis_img, loss=apis_fourier_cann(noisy_img, img, frac_k, frac_s, max_iter=50)\n",
    "    apis_time = time.time()-start_time\n",
    "    apis_psnr=peak_signal_noise_ratio(img, apis_img )\n",
    "    apis_ssim = ssim(img, apis_img )\n",
    "    \n",
    "    metrics[i,2], metrics[i,3], metrics[i,4] = apis_psnr, apis_ssim, apis_time\n",
    "    print(f'apis psnr={apis_psnr:.2f}, ssim={apis_ssim:.2f}, time={apis_time:.2f}s')\n",
    "    plt.imsave('output/'+str(noise_name)+'apis/'+str(i+1)+'.png',apis_img, cmap='gray')\n",
    "    \n",
    "    "
   ]
  }
 ],
 "metadata": {
  "kernelspec": {
   "display_name": "Python 3",
   "language": "python",
   "name": "python3"
  },
  "language_info": {
   "codemirror_mode": {
    "name": "ipython",
    "version": 3
   },
   "file_extension": ".py",
   "mimetype": "text/x-python",
   "name": "python",
   "nbconvert_exporter": "python",
   "pygments_lexer": "ipython3",
   "version": "3.8.3"
  }
 },
 "nbformat": 4,
 "nbformat_minor": 4
}
