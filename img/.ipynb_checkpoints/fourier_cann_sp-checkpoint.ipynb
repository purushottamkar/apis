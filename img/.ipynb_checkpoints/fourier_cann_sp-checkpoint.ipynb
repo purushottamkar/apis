{
 "cells": [
  {
   "cell_type": "code",
   "execution_count": 1,
   "metadata": {},
   "outputs": [],
   "source": [
    "import numpy as np\n",
    "import matplotlib.pyplot as plt \n",
    "import cv2\n",
    "from skimage import data\n",
    "from numpy.fft import fft2, ifft2\n",
    "from imglib import HT, obfuscation, noiseSP, rescale\n",
    "from skimage.restoration import denoise_tv_bregman\n",
    "from skimage.metrics import peak_signal_noise_ratio\n",
    "from skimage.metrics import structural_similarity as ssim\n",
    "import time\n",
    "import os"
   ]
  },
  {
   "cell_type": "code",
   "execution_count": 2,
   "metadata": {},
   "outputs": [],
   "source": [
    "def apis_fourier_cann(noisy_img, lr_img, frac_k, frac_s, max_iter=10):\n",
    "    shape=noisy_img.shape\n",
    "    noise = np.zeros(shape)\n",
    "    loss=np.zeros(max_iter)\n",
    "    for i in range(max_iter):\n",
    "        clean_img= abs(ifft2(HT(fft2(noisy_img-noise),frac_s)))\n",
    "        noise=HT(noisy_img-clean_img, frac_k)\n",
    "        loss[i]=np.linalg.norm(clean_img-lr_img, ord='fro')\n",
    "    return rescale(clean_img), loss"
   ]
  },
  {
   "cell_type": "code",
   "execution_count": 3,
   "metadata": {},
   "outputs": [],
   "source": [
    "noise_name='salt_pepper_noise/'\n",
    "\n",
    "if not os.path.exists('output/'+str(noise_name)+'apis/'):\n",
    "        os.makedirs('output/'+str(noise_name)+'apis/')"
   ]
  },
  {
   "cell_type": "code",
   "execution_count": 4,
   "metadata": {},
   "outputs": [
    {
     "name": "stdout",
     "output_type": "stream",
     "text": [
      "img_no: 1, noisy psnr=9.95, ssim=0.04\n",
      "apis psnr=23.40, ssim=0.90, time=1.97s\n",
      "bregman psnr=17.54, ssim=0.41, time=0.09s\n",
      "bm3d psnr=14.60, ssim=0.49, time=189.57s\n",
      "img_no: 2, noisy psnr=10.61, ssim=0.02\n",
      "apis psnr=32.39, ssim=0.98, time=1.69s\n",
      "bregman psnr=18.56, ssim=0.43, time=0.09s\n",
      "bm3d psnr=16.34, ssim=0.62, time=204.01s\n",
      "img_no: 3, noisy psnr=9.90, ssim=0.05\n",
      "apis psnr=30.38, ssim=0.84, time=1.94s\n",
      "bregman psnr=17.35, ssim=0.45, time=0.09s\n",
      "bm3d psnr=14.66, ssim=0.48, time=210.33s\n",
      "img_no: 4, noisy psnr=9.93, ssim=0.05\n",
      "apis psnr=28.84, ssim=0.95, time=1.77s\n",
      "bregman psnr=17.67, ssim=0.45, time=0.09s\n",
      "bm3d psnr=14.83, ssim=0.44, time=217.69s\n",
      "img_no: 5, noisy psnr=10.29, ssim=0.07\n",
      "apis psnr=22.91, ssim=0.79, time=1.99s\n",
      "bregman psnr=18.13, ssim=0.43, time=0.09s\n",
      "bm3d psnr=17.23, ssim=0.56, time=208.82s\n",
      "img_no: 6, noisy psnr=9.42, ssim=0.05\n",
      "apis psnr=26.81, ssim=0.83, time=1.77s\n",
      "bregman psnr=17.79, ssim=0.40, time=0.09s\n",
      "bm3d psnr=14.07, ssim=0.49, time=211.23s\n",
      "img_no: 7, noisy psnr=9.72, ssim=0.05\n",
      "apis psnr=35.60, ssim=0.95, time=1.86s\n",
      "bregman psnr=17.28, ssim=0.46, time=0.09s\n",
      "bm3d psnr=14.27, ssim=0.49, time=216.23s\n",
      "img_no: 8, noisy psnr=10.55, ssim=0.04\n",
      "apis psnr=28.71, ssim=0.84, time=1.92s\n",
      "bregman psnr=17.11, ssim=0.44, time=0.09s\n",
      "bm3d psnr=17.26, ssim=0.51, time=213.78s\n",
      "img_no: 9, noisy psnr=10.16, ssim=0.07\n",
      "apis psnr=26.21, ssim=0.76, time=1.90s\n",
      "bregman psnr=16.59, ssim=0.35, time=0.09s\n",
      "bm3d psnr=14.94, ssim=0.37, time=213.86s\n",
      "img_no: 10, noisy psnr=10.69, ssim=0.05\n",
      "apis psnr=28.93, ssim=0.80, time=1.78s\n",
      "bregman psnr=18.10, ssim=0.38, time=0.09s\n",
      "bm3d psnr=15.73, ssim=0.39, time=213.69s\n",
      "img_no: 11, noisy psnr=10.44, ssim=0.05\n",
      "apis psnr=26.42, ssim=0.79, time=2.11s\n",
      "bregman psnr=17.86, ssim=0.35, time=0.09s\n",
      "bm3d psnr=16.99, ssim=0.38, time=213.77s\n",
      "img_no: 12, noisy psnr=10.81, ssim=0.05\n",
      "apis psnr=27.64, ssim=0.82, time=2.03s\n",
      "bregman psnr=15.82, ssim=0.34, time=0.09s\n",
      "bm3d psnr=15.85, ssim=0.36, time=209.55s\n"
     ]
    }
   ],
   "source": [
    "metrics=np.zeros(shape=(12,11))\n",
    "\n",
    "for i in range(12):\n",
    "    img=cv2.imread('input/Set12/'+str(i+1)+'.png',0)\n",
    "    noisy_img=cv2.imread('input/salt_pepper_noise/'+str(i+1)+'.png',0)\n",
    "    \n",
    "    noisy_psnr=peak_signal_noise_ratio(img, noisy_img)\n",
    "    noisy_ssim = ssim(img, noisy_img )\n",
    "    \n",
    "    metrics[i,0], metrics[i,1] = noisy_psnr, noisy_ssim\n",
    "    print(f'img_no: {i}, noisy psnr={noisy_psnr:.2f}, ssim={noisy_ssim:.2f}')\n",
    "    \n",
    "    #---------------APIS------------------#\n",
    "    frac_k=0.2\n",
    "    frac_s=0.1\n",
    "    start_time=time.time()\n",
    "    apis_img, loss=apis_fourier_cann(noisy_img, img, frac_k, frac_s, max_iter=50)\n",
    "    apis_time = time.time()-start_time\n",
    "    apis_psnr=peak_signal_noise_ratio(img, apis_img )\n",
    "    apis_ssim = ssim(img, apis_img )\n",
    "    \n",
    "    metrics[i,2], metrics[i,3], metrics[i,4] = apis_psnr, apis_ssim, apis_time\n",
    "    print(f'apis psnr={apis_psnr:.2f}, ssim={apis_ssim:.2f}, time={apis_time:.2f}s')\n",
    "    plt.imsave('output/'+str(noise_name)+'apis/'+str(i+1)+'.png',apis_img, cmap='gray')\n",
    "    \n",
    "    "
   ]
  },
  {
   "cell_type": "code",
   "execution_count": 5,
   "metadata": {},
   "outputs": [],
   "source": [
    "#np.savetxt('output/'+str(noise_name)+'/metric.csv', metrics, delimiter=\",\")"
   ]
  }
 ],
 "metadata": {
  "kernelspec": {
   "display_name": "Python 3",
   "language": "python",
   "name": "python3"
  },
  "language_info": {
   "codemirror_mode": {
    "name": "ipython",
    "version": 3
   },
   "file_extension": ".py",
   "mimetype": "text/x-python",
   "name": "python",
   "nbconvert_exporter": "python",
   "pygments_lexer": "ipython3",
   "version": "3.8.3"
  }
 },
 "nbformat": 4,
 "nbformat_minor": 4
}
